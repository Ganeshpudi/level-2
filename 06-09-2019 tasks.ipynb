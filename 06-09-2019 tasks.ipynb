{
 "cells": [
  {
   "cell_type": "markdown",
   "metadata": {},
   "source": [
    "Question-1: Write a Python Program to largest of three given numbers (using input statement)"
   ]
  },
  {
   "cell_type": "code",
   "execution_count": 7,
   "metadata": {},
   "outputs": [
    {
     "name": "stdout",
     "output_type": "stream",
     "text": [
      "enter a value35\n",
      "enter b value71\n",
      "enter c value21\n",
      "71 is large\n"
     ]
    }
   ],
   "source": [
    "# 1 st answer solution\n",
    "a=int(input(\"enter a value\"))\n",
    "b=int(input(\"enter b value\"))\n",
    "c=int(input(\"enter c value\"))\n",
    "if a>b:\n",
    "    if a>c:\n",
    "        print(a,\" is large\")\n",
    "elif b>c:\n",
    "    if b>a:\n",
    "        print(b,\"is large\")\n",
    "else:\n",
    "    print(c,\"is large\")\n"
   ]
  },
  {
   "cell_type": "markdown",
   "metadata": {},
   "source": [
    "Question -2: Write a python program to find the given number(N) in given range(lower bound-upper bound)"
   ]
  },
  {
   "cell_type": "code",
   "execution_count": 8,
   "metadata": {},
   "outputs": [
    {
     "name": "stdout",
     "output_type": "stream",
     "text": [
      "enetr upper case10\n",
      "enetr lower case20\n",
      "enetr value to search15\n",
      "15 is exits\n"
     ]
    }
   ],
   "source": [
    "# 2 answer solution\n",
    "a=int(input(\"enetr upper case\"))\n",
    "b=int(input(\"enetr lower case\"))\n",
    "c=int(input(\"enetr value to search\"))\n",
    "if c in range(a,b):\n",
    "    print(c,\"is exits\" )\n",
    "else:\n",
    "    print(c,\"not exist\")"
   ]
  },
  {
   "cell_type": "code",
   "execution_count": null,
   "metadata": {},
   "outputs": [],
   "source": []
  }
 ],
 "metadata": {
  "kernelspec": {
   "display_name": "Python 3",
   "language": "python",
   "name": "python3"
  },
  "language_info": {
   "codemirror_mode": {
    "name": "ipython",
    "version": 3
   },
   "file_extension": ".py",
   "mimetype": "text/x-python",
   "name": "python",
   "nbconvert_exporter": "python",
   "pygments_lexer": "ipython3",
   "version": "3.7.3"
  }
 },
 "nbformat": 4,
 "nbformat_minor": 2
}
